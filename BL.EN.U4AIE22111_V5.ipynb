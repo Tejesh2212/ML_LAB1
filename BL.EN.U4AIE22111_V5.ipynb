{
 "cells": [
  {
   "cell_type": "code",
   "execution_count": 1,
   "metadata": {},
   "outputs": [
    {
     "name": "stdout",
     "output_type": "stream",
     "text": [
      "4\n",
      "[(7, 3), (4, 6), (3, 7), (6, 4)]\n"
     ]
    }
   ],
   "source": [
    "c=0\n",
    "a=[2,7,4,1,3,6] \n",
    "b=[]\n",
    "for i in range(len(a)):\n",
    "     for j in range(1,len(a)):\n",
    "       if(a[i]+a[j]==10):\n",
    "         c = c + 1\n",
    "         b.append((a[i],a[j]))\n",
    "       else:\n",
    "           c=c\n",
    "\n",
    "print(c)  \n",
    "print(b)   \n",
    "   "
   ]
  },
  {
   "cell_type": "code",
   "execution_count": 4,
   "metadata": {},
   "outputs": [
    {
     "name": "stdout",
     "output_type": "stream",
     "text": [
      "Difference between maximum and minimum: 6\n"
     ]
    }
   ],
   "source": [
    "\n",
    "def find_difference():\n",
    "    string = input(\"Enter numbers in list separated by spaces: \").split()\n",
    "    \n",
    "    # Convert each element to an integer\n",
    "    numbers = [int(x) for x in string]\n",
    "\n",
    "    minimum = min(numbers)\n",
    "    maximum = max(numbers)\n",
    "\n",
    "    difference = maximum - minimum\n",
    "\n",
    "    return f\"Difference between maximum and minimum: {difference}\"\n",
    "\n",
    "# Call the function and print the result\n",
    "result = find_difference()\n",
    "print(result)\n"
   ]
  },
  {
   "cell_type": "code",
   "execution_count": 2,
   "metadata": {},
   "outputs": [
    {
     "name": "stdout",
     "output_type": "stream",
     "text": [
      "[[6, 12, 18], [6, 12, 18], [6, 12, 18]]\n",
      "3\n"
     ]
    }
   ],
   "source": [
    "def matrixmult(matrix,matrix1):\n",
    "    if len(matrix)!= len(matrix1):\n",
    "        raise ValueError(\"Number of rows in the first matrix must equal the number of rows in the second matrix.\")\n",
    "\n",
    "    result = []\n",
    "    for i in range(len(matrix)):\n",
    "        row = []\n",
    "        for j in range(len(matrix1[0])):\n",
    "            sum = 0\n",
    "            for k in range(len(matrix1)):\n",
    "                sum += int(matrix[i][k]) * int(matrix1[k][j])  \n",
    "            row.append(sum)\n",
    "        result.append(row)\n",
    "    return result\n",
    "def powermatrix(matrix,m):\n",
    "    if m == 1:\n",
    "        return matrix\n",
    "    return matrixmult(matrix, powermatrix(matrix,m-1)) \n",
    "\n",
    "    \n",
    "matrix =[]\n",
    "string= input(\"Enter numbers in first row of the matrix\").split()\n",
    "matrix.append(string)\n",
    "no_rows = len(string)\n",
    "for _ in range(no_rows-1):\n",
    "    string = input(\"Enter numbers in first row of the matrix\").split()\n",
    "    matrix.append(string)\n",
    "for x in matrix:\n",
    "    for y in x:\n",
    "        y = int(y)\n",
    "m = int(input(\"Enter a number m\")) \n",
    "#converting m as interger\n",
    "result =  powermatrix(matrix,m)\n",
    "print(result)\n",
    "print(len(matrix))\n"
   ]
  },
  {
   "cell_type": "code",
   "execution_count": 4,
   "metadata": {},
   "outputs": [
    {
     "name": "stdout",
     "output_type": "stream",
     "text": [
      "TEJESH\n",
      " maximally occuring character:E and the count is 2:\n"
     ]
    }
   ],
   "source": [
    "count={}\n",
    "\n",
    "for i in x:\n",
    "    if i in count:\n",
    "        count[i]=count[i]+1\n",
    "    else:\n",
    "        count[i] = 1\n",
    "result= max(count,key = count.get)\n",
    "count = count[result]\n",
    "\n",
    "x=input(\"enter the string:\")\n",
    "print(x)\n",
    "print(f\" maximally occuring character:{result} and the count is {count}:\")"
   ]
  }
 ],
 "metadata": {
  "kernelspec": {
   "display_name": "Python 3",
   "language": "python",
   "name": "python3"
  },
  "language_info": {
   "codemirror_mode": {
    "name": "ipython",
    "version": 3
   },
   "file_extension": ".py",
   "mimetype": "text/x-python",
   "name": "python",
   "nbconvert_exporter": "python",
   "pygments_lexer": "ipython3",
   "version": "3.11.4"
  }
 },
 "nbformat": 4,
 "nbformat_minor": 2
}
